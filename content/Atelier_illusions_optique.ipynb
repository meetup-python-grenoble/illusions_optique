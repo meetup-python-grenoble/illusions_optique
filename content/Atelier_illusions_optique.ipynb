{
 "cells": [
  {
   "cell_type": "markdown",
   "id": "066f0a46",
   "metadata": {},
   "source": [
    "<a href=\"https://meetup-python-grenoble.github.io/\" target=\"_blank\"><img src=\"logo.png\" width=500px/></a>"
   ]
  },
  {
   "cell_type": "markdown",
   "id": "3dfc272d",
   "metadata": {},
   "source": [
    "# 🐍 Illusions d'optique pythoniques - Meetup Python Grenoble\n",
    "\n",
    "*Mardi 27 février 2024 - 19h - <a href=\"https://turbine.coop/\" target=\"_blank\">La Turbine</a> - Grenoble*\n",
    "\n",
    "## 🏗️ Partie 1 : les bases\n",
    "\n",
    "Objectif : **manipuler les bibliothèques Python** qui seront utilisées par la suite pour **créer les illusions d'optique**\n",
    "\n",
    "Durant cet atelier, on utilisera **trois bibliothèques externes** de Python :\n",
    "\n",
    "- **<a href=\"https://numpy.org/\" target=\"_blank\">numpy</a>**\n",
    "\n",
    "*Numpy sert de **fondation** à de nombreuses autres **bibliothèques scientifiques** (exemple : <a href=\"https://scipy.org/\" target=\"_blank\">scipy</a>) et d'**analyse de données** (exemple : <a href=\"https://pandas.pydata.org/\" target=\"_blank\">pandas</a>). Elle rend le traitement de grands volumes de données plus accessible et optimisé grâce aux <a href=\"https://numpy.org/doc/stable/reference/generated/numpy.array.html\" target=\"_blank\">tableaux numpy</a>.*\n",
    "\n",
    "**Plus spécifiquement, pour cet atelier : créer et manipuler les tableaux de nombres pour concevoir des images d'illusions d'optique**\n",
    "\n",
    "- **<a href=\"https://matplotlib.org/\" target=\"_blank\">matplotlib</a>**\n",
    "\n",
    "*Matplotlib est une bibliothèque de **visualisation de données** conçue pour créer des **graphiques** et des **visualisations statiques** (pour des visualisations dynamiques, <a href=\"https://plotly.com/python/\" target=\"_blank\">plotly</a> est plus utilisée car elle s'appuie sur la bibliothèque Javascript <a href=\"https://d3js.org/\" target=\"_blank\">D3.js</a>)*\n",
    "\n",
    "**Plus spécifiquement, pour cet atelier : viusaliser les images d'illusions d'optique créées**\n",
    "\n",
    "- **<a href=\"https://imageio.readthedocs.io/en/stable/\" target=\"_blank\">imageio</a>**\n",
    "\n",
    "*Imageio fournit une interface facile pour lire et écrire une **large gamme de données d'image**. Elle supporte les images animées (exemple : <a href=\"https://fr.wikipedia.org/wiki/Graphics_Interchange_Format\" target=\"_blank\">GIF</a>), les données volumétriques (exemple : <a href=\"https://fr.wikipedia.org/wiki/Digital_imaging_and_communications_in_medicine\" target=\"_blank\">DICOM</a>) et les formats scientifiques (exemple : <a href=\"https://fr.wikipedia.org/wiki/Hierarchical_Data_Format\" target=\"_blank\">HDF5</a>).*\n",
    "\n",
    "**Plus spécifiquement, pour cet atelier : créer les GIF des images d'illusions d'optique**"
   ]
  },
  {
   "cell_type": "code",
   "execution_count": null,
   "id": "7d5ec1ae",
   "metadata": {},
   "outputs": [],
   "source": [
    "# Importation des bibliothèques Python avec leurs alias\n",
    "import numpy as np\n",
    "import matplotlib.pyplot as plt\n",
    "import imageio\n",
    "# Importation specifique au notebook pour l'affichage des GIF\n",
    "from IPython.display import Image, display\n",
    "# Importation specifique pour le typage\n",
    "from typing import Tuple"
   ]
  },
  {
   "cell_type": "markdown",
   "id": "8f780d51",
   "metadata": {},
   "source": [
    "## 🏴‍☠️ Création d'images de drapeaux à partir de tableaux numpy\n",
    "\n",
    "Voici une liste des quelques **fonctions numpy** utiles :\n",
    "\n",
    "- <a href=\"https://numpy.org/doc/stable/reference/generated/numpy.full.html\" target=\"_blank\">numpy.full()</a>, <a href=\"https://numpy.org/doc/stable/reference/generated/numpy.zeros.html\" target=\"_blank\">numpy.zeros()</a>, <a href=\"https://numpy.org/doc/stable/reference/generated/numpy.ones.html\" target=\"_blank\">numpy.ones()</a>\n",
    "\n",
    "- <a href=\"https://numpy.org/doc/stable/reference/generated/numpy.concatenate.html\" target=\"_blank\">numpy.concatenate()</a>\n",
    "\n",
    "- <a href=\"https://numpy.org/doc/stable/reference/generated/numpy.stack.html\" target=\"_blank\">numpy.stack()</a>\n",
    "\n",
    "- <a href=\"https://numpy.org/doc/stable/reference/generated/numpy.meshgrid.html\" target=\"_blank\">numpy.meshgrid()</a>\n",
    "\n",
    "- <a href=\"https://numpy.org/doc/stable/reference/arrays.scalars.html#numpy.uint\" target=\"_blank\">numpy.uint8</a>\n"
   ]
  },
  {
   "cell_type": "markdown",
   "id": "9c898532",
   "metadata": {},
   "source": [
    "📝 Création de la fonction d'**affichage des images** issues des tableaux numpy"
   ]
  },
  {
   "cell_type": "code",
   "execution_count": null,
   "id": "e1df2f27",
   "metadata": {},
   "outputs": [],
   "source": [
    "def show_image(image: np.ndarray) -> None:\n",
    "    \"\"\"\n",
    "    Affiche une image donnée.\n",
    "\n",
    "    Cette fonction prend une image sous forme de tableau NumPy et l'affiche\n",
    "    en utilisant matplotlib, avec les axes désactivés.\n",
    "\n",
    "    Paramètres :\n",
    "    - image (np.ndarray): L'image à afficher, représentée comme un tableau NumPy.\n",
    "\n",
    "    Retour :\n",
    "    - None: La fonction ne retourne rien mais affiche l'image dans le notebook ou dans une fenêtre de visualisation.\n",
    "    \"\"\"\n",
    "    plt.imshow(image)  # Affichage de l'image\n",
    "    plt.axis('off')    # Désactivation des axes\n",
    "    plt.show()         # Affichage de la figure"
   ]
  },
  {
   "cell_type": "markdown",
   "id": "de613652",
   "metadata": {},
   "source": [
    "📝 Affichage d'une image **complétement noire**"
   ]
  },
  {
   "cell_type": "code",
   "execution_count": null,
   "id": "6b35ce60",
   "metadata": {},
   "outputs": [],
   "source": [
    "# Dimensions de l'image\n",
    "width = 1280 # pixels\n",
    "height = 720 # pixels\n",
    "# Image noire\n",
    "image = np.zeros((height, width, 3), dtype=np.uint8)\n",
    "show_image(image)"
   ]
  },
  {
   "cell_type": "markdown",
   "id": "10bb4a24",
   "metadata": {},
   "source": [
    "📝 Création d'une **fonction** pour créer un **tableau numpy d'un drapeau** avec des **bandes verticales**"
   ]
  },
  {
   "cell_type": "code",
   "execution_count": null,
   "id": "c33768ce",
   "metadata": {},
   "outputs": [],
   "source": [
    "def create_v_flag(height: int = 720, width: int = 1280, color_1: Tuple[int, int, int] = (0, 85, 164), color_2: Tuple[int, int, int] = (255, 255, 255), color_3: Tuple[int, int, int] = (239, 65, 53)) -> np.ndarray:\n",
    "    \"\"\"\n",
    "    Crée une image de drapeau vertical avec trois bandes de couleurs spécifiées.\n",
    "\n",
    "    Cette fonction génère un drapeau vertical composé de trois bandes verticales\n",
    "    de couleurs données. Les dimensions du drapeau et les couleurs de chaque bande\n",
    "    peuvent être spécifiées. Les couleurs doivent être fournies sous forme de tuples\n",
    "    représentant les valeurs RGB.\n",
    "\n",
    "    Paramètres :\n",
    "    - height (int, optional): La hauteur du drapeau en pixels. Valeur par défaut 720.\n",
    "    - width (int, optional): La largeur du drapeau en pixels. Valeur par défaut 1280.\n",
    "    - color_1 (Tuple[int, int, int], optional): La couleur RGB de la première bande. Valeur par défaut (0, 85, 164).\n",
    "    - color_2 (Tuple[int, int, int], optional): La couleur RGB de la deuxième bande. Valeur par défaut (255, 255, 255).\n",
    "    - color_3 (Tuple[int, int, int], optional): La couleur RGB de la troisième bande. Valeur par défaut (239, 65, 53).\n",
    "\n",
    "    Retour :\n",
    "    - np.ndarray: L'image du drapeau sous forme d'un tableau numpy de type uint8.\n",
    "    \"\"\"\n",
    "    stripe_1 = np.full((height, width // 3, 3), color_1, dtype=np.uint8)  # Création de la première bande\n",
    "    stripe_2 = np.full((height, width // 3, 3), color_2, dtype=np.uint8)  # Création de la deuxième bande\n",
    "    stripe_3 = np.full((height, width // 3, 3), color_3, dtype=np.uint8)  # Création de la troisième bande\n",
    "    flag = np.concatenate((stripe_1, stripe_2, stripe_3), axis=1)  # Assemblage des bandes pour former le drapeau\n",
    "    return flag"
   ]
  },
  {
   "cell_type": "markdown",
   "id": "ab4e2342",
   "metadata": {},
   "source": [
    "📝 Création du **drapeau français** et du **drapeau belge**"
   ]
  },
  {
   "cell_type": "code",
   "execution_count": null,
   "id": "be3e90c9",
   "metadata": {},
   "outputs": [],
   "source": [
    "french_flag = create_v_flag()\n",
    "show_image(french_flag)\n",
    "belgian_flag = create_v_flag(color_1=(0, 0, 0), color_2=(255, 233, 22), color_3=(237, 41, 57))\n",
    "show_image(belgian_flag)"
   ]
  },
  {
   "cell_type": "markdown",
   "id": "289e69f8",
   "metadata": {},
   "source": [
    "📝 Création d'un **fonction** pour créer un **GIF de transition entre deux images**"
   ]
  },
  {
   "cell_type": "code",
   "execution_count": null,
   "id": "c5048c15",
   "metadata": {},
   "outputs": [],
   "source": [
    "def create_gif(image_1: np.ndarray, image_2: np.ndarray, nb_images: int = 30, duration: float = 4.0) -> None:\n",
    "    \"\"\"\n",
    "    Crée une animation GIF transitionnant de `image_1` à `image_2`.\n",
    "\n",
    "    Cette fonction crée une série d'images intermédiaires entre deux images données\n",
    "    pour former une animation de transition, puis sauvegarde et affiche le GIF résultant.\n",
    "\n",
    "    Paramètres :\n",
    "    - image_1 (np.ndarray): La première image sous forme de tableau numpy.\n",
    "    - image_2 (np.ndarray): La seconde image sous forme de tableau numpy.\n",
    "    - nb_images (int, optional): Le nombre d'images intermédiaires à générer. Valeur par défaut 30.\n",
    "    - duration (float, optional): La durée de chaque image dans l'animation en secondes. Valeur par défaut 4.\n",
    "\n",
    "    Retour :\n",
    "    - None: La fonction ne retourne rien mais affiche le GIF créé dans le notebook.\n",
    "    \"\"\"\n",
    "    frames = []  # Liste pour stocker les images intermédiaires\n",
    "    uri = \"transition_image.gif\"  # Nom du fichier GIF à créer\n",
    "\n",
    "    # Génération des images intermédiaires\n",
    "    for i in np.linspace(0, 1, nb_images):\n",
    "        intermediaire = (1 - i) * image_1 + i * image_2  # Calcul de l'image intermédiaire\n",
    "        frames.append(intermediaire.astype(np.uint8))  # Ajout de l'image à la liste des frames\n",
    "\n",
    "    # Sauvegarde de l'animation GIF\n",
    "    imageio.mimsave(uri, frames, duration=duration, loop=0)\n",
    "\n",
    "    # Affichage du GIF dans le notebook\n",
    "    display(Image(filename=uri))"
   ]
  },
  {
   "cell_type": "markdown",
   "id": "776e35dd",
   "metadata": {},
   "source": [
    "📝 Création d'un **GIF** pour faire la **transition** entre le **drapeau français** et **belge**"
   ]
  },
  {
   "cell_type": "code",
   "execution_count": null,
   "id": "18a2ac22",
   "metadata": {},
   "outputs": [],
   "source": [
    "create_gif(french_flag, belgian_flag)"
   ]
  },
  {
   "cell_type": "markdown",
   "id": "b2272b9c",
   "metadata": {},
   "source": [
    "___\n",
    "💻 Sur le même principe, créez un **GIF** de la transition entre le drapeau des Pays-bas et celui de la lituanie\n",
    "___\n",
    "*Drapeau des Pays-Bas :*\n",
    "\n",
    "<img src=\"https://upload.wikimedia.org/wikipedia/commons/thumb/2/20/Flag_of_the_Netherlands.svg/langfr-1920px-Flag_of_the_Netherlands.svg.png\" width=300px/>\n",
    "\n",
    "*Drapeau de la Lituanie :*\n",
    "\n",
    "<img src=\"https://upload.wikimedia.org/wikipedia/commons/thumb/1/11/Flag_of_Lithuania.svg/1920px-Flag_of_Lithuania.svg.png\" width=300px/>"
   ]
  },
  {
   "cell_type": "code",
   "execution_count": null,
   "id": "6dd0e423",
   "metadata": {},
   "outputs": [],
   "source": [
    "def create_h_flag(height: int = 720, width: int = 1280, color_1: Tuple[int, int, int] = (174, 28, 40), color_2: Tuple[int, int, int] = (255, 255, 255), color_3: Tuple[int, int, int] = (33, 70, 139)) -> np.ndarray:\n",
    "    \"\"\"\n",
    "    Crée une image de drapeau horizontal avec trois bandes de couleurs spécifiées.\n",
    "\n",
    "    Cette fonction génère un drapeau horizontal composé de trois bandes horizontales\n",
    "    de couleurs données. Les dimensions du drapeau et les couleurs de chaque bande\n",
    "    peuvent être spécifiées. Les couleurs doivent être fournies sous forme de tuples\n",
    "    représentant les valeurs RGB.\n",
    "\n",
    "    Paramètres :\n",
    "    - height (int, optional): La hauteur du drapeau en pixels. Valeur par défaut 720.\n",
    "    - width (int, optional): La largeur du drapeau en pixels. Valeur par défaut 1280.\n",
    "    - color_1 (Tuple[int, int, int], optional): La couleur RGB de la première bande. Valeur par défaut (0, 85, 164).\n",
    "    - color_2 (Tuple[int, int, int], optional): La couleur RGB de la deuxième bande. Valeur par défaut (255, 255, 255).\n",
    "    - color_3 (Tuple[int, int, int], optional): La couleur RGB de la troisième bande. Valeur par défaut (239, 65, 53).\n",
    "\n",
    "    Retour :\n",
    "    - np.ndarray: L'image du drapeau sous forme d'un tableau numpy de type uint8.\n",
    "    \"\"\"\n",
    "    # A compléter\n",
    "    pass"
   ]
  },
  {
   "cell_type": "code",
   "execution_count": null,
   "id": "869e4207",
   "metadata": {},
   "outputs": [],
   "source": [
    "flag_netherlands = None # A compléter\n",
    "show_image(flag_netherlands)\n",
    "flag_lithuania = None # A compléter\n",
    "show_image(flag_lithuania)"
   ]
  },
  {
   "cell_type": "code",
   "execution_count": null,
   "id": "291918bd",
   "metadata": {},
   "outputs": [],
   "source": [
    "create_gif(flag_netherlands, flag_lithuania)"
   ]
  },
  {
   "cell_type": "markdown",
   "id": "c331adb3",
   "metadata": {},
   "source": [
    "## 🪄 Partie 2 : création d'illusions d'optique\n",
    "\n",
    "### 🎨 Illusions d'optique basées sur le contraste\n",
    "\n",
    "Notre **perception de la luminosité** d'un objet peut être **influencée** par la luminosité des objets qui l'entourent. Par exemple, un même gris paraîtra **plus clair** sur un **fond sombre** et **plus sombre** sur un **fond clair**. Cette illusion montre comment notre système visuel interprète la luminosité de **manière relative** plutôt qu'absolue.\n",
    "\n",
    "#### 1️⃣ Illusion d'optique de la grille d’Hermann\n",
    "\n",
    "Dans cette illusion, une grille composée de **lignes blanches** croisées sur un **fond noir** forme une série de carrés noirs. Lorsqu'on regarde cette grille, des **points gris** semblent apparaître aux intersections des lignes blanches. À une intersection, la **luminosité élevée** des lignes blanches adjacentes crée un fort contraste avec le fond noir. Notre système visuel réagit en **surestimant le contraste** produisant ainsi une illusion d'assombrissement aux intersections qui se manifeste sous forme de taches grises.\n",
    "\n",
    "*Article wikipédia sur la <a href=\"https://fr.wikipedia.org/wiki/Grille_d%27Hermann\" target=\"_blank\">grille d'Hermann</a>*\n",
    "\n",
    "📝 Création de la fonction pour **créer la grille de Hermann**"
   ]
  },
  {
   "cell_type": "code",
   "execution_count": null,
   "id": "ee64e4f2",
   "metadata": {},
   "outputs": [],
   "source": [
    "def create_hermann(height: int = 800, width: int = 800, color_1: Tuple[int, int, int] = (255, 255, 255), color_2: Tuple[int, int, int] = (0, 0, 0), square_size: int = 140, padding: int = 20) -> np.ndarray:\n",
    "    \"\"\"\n",
    "    Crée une image de l'illusion d'Hermann avec des carrés de couleurs alternées.\n",
    "\n",
    "    Paramètres :\n",
    "    - height (int, optional): La hauteur de l'image en pixels. Par défaut à 800.\n",
    "    - width (int, optional): La largeur de l'image en pixels. Par défaut à 800.\n",
    "    - color_1 (Tuple[int, int, int], optional): La couleur de fond sous forme de tuple RGB. Par défaut à blanc (255, 255, 255).\n",
    "    - color_2 (Tuple[int, int, int], optional): La couleur des carrés sous forme de tuple RGB. Par défaut à noir (0, 0, 0).\n",
    "    - square_size (int, optional): La taille des carrés en pixels. Par défaut à 140.\n",
    "    - padding (int, optional): L'espace entre les carrés en pixels. Par défaut à 20.\n",
    "\n",
    "    Retour :\n",
    "    np.ndarray: Une image de l'illusion d'Hermann sous forme d'un tableau numpy de type uint8.\n",
    "    \"\"\"\n",
    "    # Création d'une image avec la couleur de fond\n",
    "    image = np.full((height, width, 3), color_1, dtype=np.uint8)\n",
    "    \n",
    "    # Dessin des carrés avec la couleur 2\n",
    "    for y in range(0, height, square_size + padding):\n",
    "        for x in range(0, width, square_size + padding):\n",
    "            image[y:y + square_size, x:x + square_size] = color_2\n",
    "    \n",
    "    return image"
   ]
  },
  {
   "cell_type": "code",
   "execution_count": null,
   "id": "0f737c70",
   "metadata": {},
   "outputs": [],
   "source": [
    "hermann = create_hermann()\n",
    "show_image(hermann)"
   ]
  },
  {
   "cell_type": "markdown",
   "id": "217e812e",
   "metadata": {},
   "source": [
    "💻 Créez un **GIF** de la transition entre **deux grilles de Hermann** en jouant sur les **couleurs** (ou la **taille des carrés**)"
   ]
  },
  {
   "cell_type": "code",
   "execution_count": null,
   "id": "8d0d0264",
   "metadata": {},
   "outputs": [],
   "source": [
    "# A compléter"
   ]
  },
  {
   "cell_type": "markdown",
   "id": "1c3ce919",
   "metadata": {},
   "source": [
    "#### 2️⃣ Illusion d'optique du carré gris uniforme sur fond en dégradé de gris\n",
    "\n",
    "Dans cette illusion, on trace un rectangle **uniforme gris** au centre d'un grand rectangle en **dégradé de gris**. Le rectangle uniforme parait lui aussi être en dégradé de gris.\n",
    "\n",
    "📝 Création de la fonction pour cette **illusion d'optique**"
   ]
  },
  {
   "cell_type": "code",
   "execution_count": null,
   "id": "7ed1032a",
   "metadata": {},
   "outputs": [],
   "source": [
    "def create_gradient(height: int = 400, width: int = 600, fig_height: int = 50, fig_width: int = 500, \n",
    "                    fig_color: Tuple[int, int, int] = (128, 128, 128), gradient: bool = True, \n",
    "                    color: Tuple[int, int, int] = (0, 0, 0)) -> np.ndarray:\n",
    "    \"\"\"\n",
    "    Crée une image avec un gradient horizontal et dessine un rectangle de couleur.\n",
    "\n",
    "    Cette fonction génère une image de dimensions spécifiées avec un gradient horizontal\n",
    "    de noir à blanc, sauf si désactivé. Dans ce cas, l'image est remplie avec la couleur spécifiée.\n",
    "    Un rectangle de couleur est également dessiné au centre de l'image.\n",
    "\n",
    "    Paramètres :\n",
    "    - height (int): Hauteur de l'image en pixels. Par défaut à 400.\n",
    "    - width (int): Largeur de l'image en pixels. Par défaut à 600.\n",
    "    - fig_height (int): Hauteur du rectangle en pixels. Par défaut à 50.\n",
    "    - fig_width (int): Largeur du rectangle en pixels. Par défaut à 500.\n",
    "    - fig_color (Tuple[int, int, int]): Couleur du rectangle en RGB. Par défaut à (128, 128, 128).\n",
    "    - gradient (bool): Si True, génère un gradient horizontal; sinon, utilise `color`. Par défaut à True.\n",
    "    - color (Tuple[int, int, int]): Couleur de fond de l'image en RGB si `gradient` est False. Par défaut à (0, 0, 0).\n",
    "\n",
    "    Retour :\n",
    "    - np.ndarray: L'image générée sous forme d'un tableau numpy de type uint8.\n",
    "    \"\"\"\n",
    "    # Création du gradient ou remplissage de couleur\n",
    "    if gradient:\n",
    "        x = np.linspace(0, 1, width)\n",
    "        X, _ = np.meshgrid(x, np.linspace(0, 1, height))\n",
    "        Z = X * 255  # Création du gradient horizontal\n",
    "        image = np.stack((Z, Z, Z), axis=2).astype(np.uint8)\n",
    "    else:\n",
    "        image = np.full((height, width, 3), color, dtype=np.uint8)\n",
    "    \n",
    "    # Dessin du rectangle de couleur\n",
    "    x_fig = (width - fig_width) // 2\n",
    "    y_fig = (height - fig_height) // 2\n",
    "    image[y_fig:y_fig+fig_height, x_fig:x_fig+fig_width] = fig_color\n",
    "    \n",
    "    return image"
   ]
  },
  {
   "cell_type": "code",
   "execution_count": null,
   "id": "3275e3a9",
   "metadata": {},
   "outputs": [],
   "source": [
    "gradient = create_gradient(fig_color=(0,0,0))\n",
    "show_image(gradient)"
   ]
  },
  {
   "cell_type": "markdown",
   "id": "30b5cde5",
   "metadata": {},
   "source": [
    "💻 Créez un **GIF** de la transition entre deux images en jouant sur la **couleur** du rectangle central"
   ]
  },
  {
   "cell_type": "code",
   "execution_count": null,
   "id": "870666b8",
   "metadata": {},
   "outputs": [],
   "source": [
    "# A compléter"
   ]
  },
  {
   "cell_type": "markdown",
   "id": "b4ee0b9a",
   "metadata": {},
   "source": [
    "#### 3️⃣ Illusion d'optique basée sur le contraste sur la couleur\n",
    "\n",
    "Dans cette illusion, on trace **quatre rectangles horizontaux** de différentes couleurs et un rectangle vertical qui est recouvert par les deux rectangles horizontaux du milieu. La partie haute du rectangle vertical parait **plus sombre** que la partie basse."
   ]
  },
  {
   "cell_type": "code",
   "execution_count": null,
   "id": "0c2127c9",
   "metadata": {},
   "outputs": [],
   "source": [
    "def create_color_gradient(height: int = 400, width: int = 600,\n",
    "                          color_rect1: Tuple[int, int, int] = (32, 144, 168),\n",
    "                          color_rect2: Tuple[int, int, int] = (48, 8, 110),\n",
    "                          color_rect3: Tuple[int, int, int] = (255, 211, 13),\n",
    "                          color_rect4: Tuple[int, int, int] = (255, 141, 72),\n",
    "                          color_vertical: Tuple[int, int, int] = (218, 118, 57)) -> np.ndarray:\n",
    "    \"\"\"\n",
    "    Crée une image de taille donnée avec des rectangles de couleurs spécifiques.\n",
    "\n",
    "    Paramètres :\n",
    "    - height (int, optional): La hauteur de l'image en pixels. Par défaut à 400.\n",
    "    - width (int, optional): La largeur de l'image en pixels. Par défaut à 600.\n",
    "    - color_rect1, color_rect2, color_rect3, color_rect4, color_vertical (Tuple[int, int, int], optional):\n",
    "      Les couleurs des rectangles définies en RGB. Chaque couleur est un tuple de trois entiers (R, G, B).\n",
    "\n",
    "    Retour :\n",
    "    - np.ndarray: L'image créée sous forme d'un tableau numpy de forme (height, width, 3) et de type uint8.\n",
    "    \"\"\"\n",
    "    # Création d'une image vide (blanche)\n",
    "    image = np.full((height, width, 3), fill_value=255, dtype=np.uint8)\n",
    "\n",
    "    # Calcul des dimensions pour le positionnement des rectangles\n",
    "    scale_height = height // 4\n",
    "    scale_width = width // 2\n",
    "\n",
    "    # Définition des rectangles à dessiner sur l'image\n",
    "    rectangles = {\n",
    "        \"rect1\": {\"xy\": (0, 0), \"width\": 2 * scale_width, \"height\": scale_height, \"color\": color_rect1},\n",
    "        \"rect4\": {\"xy\": (0, 3 * scale_height), \"width\": 2 * scale_width, \"height\": scale_height, \"color\": color_rect4},\n",
    "        \"vertical_rect\": {\"xy\": (0.9 * scale_width, 0.5 * scale_height), \"width\": 0.2 * scale_width, \"height\": 3 * scale_height, \"color\": color_vertical},\n",
    "        \"rect2\": {\"xy\": (0, scale_height), \"width\": 2 * scale_width, \"height\": scale_height, \"color\": color_rect2},\n",
    "        \"rect3\": {\"xy\": (0, 2 * scale_height), \"width\": 2 * scale_width, \"height\": scale_height, \"color\": color_rect3},\n",
    "    }\n",
    "\n",
    "    # Dessin des rectangles sur l'image\n",
    "    for rect in rectangles.values():\n",
    "        x_start, y_start = [int(c) for c in rect[\"xy\"]]\n",
    "        x_end = int(x_start + rect[\"width\"])\n",
    "        y_end = int(y_start + rect[\"height\"])\n",
    "        image[y_start:y_end, x_start:x_end] = rect[\"color\"]\n",
    "\n",
    "    return image"
   ]
  },
  {
   "cell_type": "code",
   "execution_count": null,
   "id": "980a1177",
   "metadata": {},
   "outputs": [],
   "source": [
    "color_gradient = create_color_gradient()\n",
    "show_image(color_gradient)"
   ]
  },
  {
   "cell_type": "markdown",
   "id": "53b28ca2",
   "metadata": {},
   "source": [
    "💻 Créez un **GIF** de la transition entre deux images en jouant sur la **couleur** du rectangle vertical"
   ]
  },
  {
   "cell_type": "code",
   "execution_count": null,
   "id": "71e46e01",
   "metadata": {},
   "outputs": [],
   "source": [
    "# A compléter"
   ]
  },
  {
   "cell_type": "markdown",
   "id": "f854d57a",
   "metadata": {},
   "source": [
    "### 📐 Illusions d'optique géométriques\n",
    "\n",
    "#### 1️⃣ Illusion d'optique de Hering\n",
    "\n",
    "Dans cette illusion, **deux lignes droites parallèles** traversées par des lignes positionnées **en forme de cercle**. Les lignes droites parallèles semblent **être déformées ou courbées** au niveau des intersections avec les autres lignes. Lorsque les lignes droites sont croisées par des courbes, notre cerveau a tendance à **exagérer la perception de la courbure** en raison du contraste entre les lignes droites et les courbes. Cela crée une illusion de distorsion où les lignes droites semblent se courber.\n",
    "\n",
    "*Article wikipédia sur l'<a href=\"https://fr.wikipedia.org/wiki/Illusion_de_Hering\" target=\"_blank\">illusion d'optique de Hering</a>*"
   ]
  },
  {
   "cell_type": "code",
   "execution_count": null,
   "id": "7f69457a",
   "metadata": {},
   "outputs": [],
   "source": [
    "def create_hering(height: int = 600, width: int = 600, vertical_line_width: int = 2, \n",
    "                  nb_lines: int = 36, line_width: int = 1) -> None:\n",
    "    \"\"\"\n",
    "    Crée et affiche une illusion d'Hering.\n",
    "\n",
    "    Cette fonction génère une illusion d'Hering, qui consiste en deux lignes verticales droites\n",
    "    entourées de séries de lignes courbes, créant ainsi l'illusion que les lignes verticales\n",
    "    sont incurvées.\n",
    "\n",
    "    Paramètres :\n",
    "    - height (int, optional): La hauteur de la figure en pixels. Par défaut à 600.\n",
    "    - width (int, optional): La largeur de la figure en pixels. Par défaut à 600.\n",
    "    - vertical_line_width (int, optional): L'épaisseur des lignes verticales. Par défaut à 2.\n",
    "    - nb_lines (int, optional): Le nombre de lignes courbes à générer. Par défaut à 36.\n",
    "    - line_width (int, optional): L'épaisseur des lignes courbes. Par défaut à 1.\n",
    "\n",
    "    Retour :\n",
    "    - None: La fonction ne retourne rien mais affiche l'illusion d'Hering dans le notebook.\n",
    "    \"\"\"\n",
    "    # Création de la figure et de l'axe\n",
    "    fig, ax = plt.subplots(figsize=(6, 6))\n",
    "\n",
    "    # Dessin des deux lignes verticales\n",
    "    ax.plot([width * 0.4, width * 0.4], [0, height], color='black', lw=vertical_line_width)\n",
    "    ax.plot([width * 0.6, width * 0.6], [0, height], color='black', lw=vertical_line_width)\n",
    "\n",
    "    # Génération et dessin des lignes courbes autour des lignes verticales\n",
    "    for angle in np.linspace(0, 2 * np.pi, nb_lines, endpoint=False):\n",
    "        x = np.cos(angle) * width * 0.5\n",
    "        y = np.sin(angle) * height * 0.5\n",
    "        ax.plot([width / 2 + x, width / 2 - x], [height / 2 + y, height / 2 - y], color='black', lw=line_width)\n",
    "\n",
    "    # Configuration des limites de l'affichage et désactivation des axes\n",
    "    ax.set_xlim(0, width)\n",
    "    ax.set_ylim(0, height)\n",
    "    ax.axis('off')\n",
    "\n",
    "    # Affichage de la figure\n",
    "    plt.show()"
   ]
  },
  {
   "cell_type": "code",
   "execution_count": null,
   "id": "7eed3576",
   "metadata": {},
   "outputs": [],
   "source": [
    "create_hering()"
   ]
  },
  {
   "cell_type": "markdown",
   "id": "0dbb3213",
   "metadata": {},
   "source": [
    "💻 Créez **différentes configurations** de lignes pour trouver les **limites de l'illusion d'optique**"
   ]
  },
  {
   "cell_type": "code",
   "execution_count": null,
   "id": "d4225dbf",
   "metadata": {},
   "outputs": [],
   "source": [
    "# A compléter"
   ]
  },
  {
   "cell_type": "markdown",
   "id": "ae013d26",
   "metadata": {},
   "source": [
    "#### 2️⃣ Illusion d'optique du mur de café\n",
    "\n",
    "Dans cette illusion, un **mur de tuiles** de couleurs claires et sombres sont positionnées de **manière alternée**. Avec ce positionnement, les lignes ne paraissent **plus parallèles**.\n",
    "\n",
    "*Article wikipédia sur l'<a href=\"https://fr.wikipedia.org/wiki/Illusion_du_mur_du_café\" target=\"_blank\">illusion du mur de café</a>*"
   ]
  },
  {
   "cell_type": "code",
   "execution_count": null,
   "id": "8627f627",
   "metadata": {},
   "outputs": [],
   "source": [
    "def create_alternating_lines_illusion(height: int = 400, width: int = 600, nb_lines: int = 10, \n",
    "                                      section_width: int = 30) -> None:\n",
    "    \"\"\"\n",
    "    Crée et affiche une illusion d'optique avec des lignes alternées.\n",
    "\n",
    "    Cette fonction génère une illusion d'optique en créant une image avec des lignes horizontales\n",
    "    alternées noir et blanc, avec un décalage sur chaque ligne impaire pour renforcer l'effet visuel.\n",
    "\n",
    "    Paramètres :\n",
    "    - height (int, optional): La hauteur de l'image en pixels. Par défaut à 400.\n",
    "    - width (int, optional): La largeur de l'image en pixels. Par défaut à 600.\n",
    "    - nb_lines (int, optional): Le nombre de lignes horizontales dans l'image. Par défaut à 10.\n",
    "    - section_width (int, optional): La largeur de chaque section alternée (noir ou blanc) en pixels. Par défaut à 30.\n",
    "\n",
    "    Retour :\n",
    "    - None: La fonction ne retourne rien mais affiche l'illusion d'optique dans le notebook.\n",
    "    \"\"\"\n",
    "    # Créer une image vide\n",
    "    image = np.zeros((height, width))\n",
    "\n",
    "    # Dessiner les lignes alternées\n",
    "    for i in range(nb_lines):\n",
    "        y_start = i * height // nb_lines\n",
    "        y_end = (i + 1) * height // nb_lines\n",
    "        offset = (i % 2) * section_width // 2  # Décalage pour les lignes impaires\n",
    "\n",
    "        for j in range(0, width, section_width * 2):\n",
    "            x_start = j + offset\n",
    "            x_end = x_start + section_width\n",
    "            image[y_start:y_end, x_start:x_end] = 255  # Sections blanches\n",
    "\n",
    "    # Afficher l'illusion d'optique\n",
    "    plt.imshow(image, cmap='gray')\n",
    "    plt.axis('off')\n",
    "    plt.show()"
   ]
  },
  {
   "cell_type": "code",
   "execution_count": null,
   "id": "6363519c",
   "metadata": {},
   "outputs": [],
   "source": [
    "create_alternating_lines_illusion()"
   ]
  },
  {
   "cell_type": "markdown",
   "id": "94249263",
   "metadata": {},
   "source": [
    "💻 Créez **différentes configurations** de lignes pour trouver les **limites de l'illusion d'optique**"
   ]
  },
  {
   "cell_type": "code",
   "execution_count": null,
   "id": "a030a1a2",
   "metadata": {},
   "outputs": [],
   "source": [
    "# A compléter"
   ]
  },
  {
   "cell_type": "markdown",
   "id": "7474bb3d",
   "metadata": {},
   "source": [
    "#### 3️⃣ Illusion d'optique de Zollner\n",
    "\n",
    "Dans cette illusion, de **courtes lignes obliques** sont dessinées sur des **lignes horizontales parallèles**. Bien que les lignes principales soient **rigoureusement parallèles**, elles apparaissent comme si elles étaient inclinées. Lorsque notre cerveau tente d'interpréter ces motifs, il est **influencé par les angles** créés par les lignes obliques. Cela peut conduire à une perception erronée de la direction et de l'orientation des lignes principales.\n",
    "\n",
    "*Article wikipédia sur l'<a href=\"https://fr.wikipedia.org/wiki/Illusion_de_Zollner\" target=\"_blank\">illusion de Zollner</a>*"
   ]
  },
  {
   "cell_type": "code",
   "execution_count": null,
   "id": "09e4564f",
   "metadata": {},
   "outputs": [],
   "source": [
    "def create_zollner_illusion(width: int = 800, height: int = 600, num_lines: int = 10, line_spacing: int = None, angle: int = 30) -> None:\n",
    "    \"\"\"\n",
    "    Crée et affiche l'illusion de Zollner.\n",
    "\n",
    "    Paramètres :\n",
    "    - width (int, optional): Largeur de la figure en pixels. Par défaut à 800.\n",
    "    - height (int, optional): Hauteur de la figure en pixels. Par défaut à 600.\n",
    "    - num_lines (int, optional): Nombre de lignes horizontales. Par défaut à 10.\n",
    "    - line_spacing (int, optional): Espacement entre les lignes horizontales. Si None, calculé automatiquement.\n",
    "    - angle (int, optional): Angle des lignes transversales en degrés. Par défaut à 30.\n",
    "\n",
    "    Retour :\n",
    "    - None\n",
    "    \"\"\"\n",
    "    if line_spacing is None:\n",
    "        line_spacing = height // num_lines\n",
    "\n",
    "    fig, ax = plt.subplots()\n",
    "    ax.set_aspect('equal')\n",
    "    ax.set_xlim([0, width])\n",
    "    ax.set_ylim([0, height])\n",
    "    ax.axis('off')\n",
    "\n",
    "    # Dessiner les lignes principales horizontales\n",
    "    for i in range(num_lines):\n",
    "        y = i * line_spacing\n",
    "        ax.plot([0, width], [y, y], color=\"black\")\n",
    "    \n",
    "    # Dessiner les lignes transversales obliques\n",
    "    for i in range(num_lines):\n",
    "        y = i * line_spacing\n",
    "        for x in range(0, width, 40):\n",
    "            x_start = x\n",
    "            y_start = y\n",
    "            x_end = x + int(line_spacing / np.tan(np.radians(angle)))\n",
    "            y_end = y + line_spacing - 20\n",
    "            if i % 2 == 0:  # Inverser l'angle pour chaque ligne alternative\n",
    "                x_end = x - int(line_spacing / np.tan(np.radians(angle)))\n",
    "            ax.plot([x_start, x_end], [y_start, y_end], color=\"black\")\n",
    "\n",
    "    plt.show()"
   ]
  },
  {
   "cell_type": "code",
   "execution_count": null,
   "id": "8bdef9f5",
   "metadata": {},
   "outputs": [],
   "source": [
    "create_zollner_illusion()"
   ]
  },
  {
   "cell_type": "markdown",
   "id": "d8298d3b",
   "metadata": {},
   "source": [
    "💻 Créez **différentes configurations** de lignes pour trouver les **limites de l'illusion d'optique**"
   ]
  },
  {
   "cell_type": "code",
   "execution_count": null,
   "id": "442ba2f2",
   "metadata": {},
   "outputs": [],
   "source": [
    "# A compléter"
   ]
  },
  {
   "cell_type": "markdown",
   "id": "b1316dee",
   "metadata": {},
   "source": [
    "### 🚀 Pour aller plus loin\n",
    "\n",
    "<img src=\"https://upload.wikimedia.org/wikipedia/commons/a/a1/Fondation_Vasarely_avec_bassin.jpg\" alt=\"Fondation Vasarely\" width=500px />\n",
    "\n",
    "*Source Wikipedia : Fondation Vasarely situé à Aix-en-Provence*\n",
    "\n",
    "Les **illusions d'optique** sont des **expériences visuelles** qui trompent notre cerveau en provoquant une **perception différente de la réalité**. Elles exploitent les **limites** et les **particularités** du **système visuel humain** pour créer des images qui semblent **défier les lois de la physique** ou présentent des **ambiguïtés intrigantes**. Ces illusions peuvent être basées sur des **distorsions de taille**, de **couleur**, de **contraste**, de **géométrie** ou de **perspective**.\n",
    "\n",
    "L'**Op Art**, abréviation de l'**Art Optique**, est un **mouvement artistique** du **milieu du 20e siècle** qui utilise des **motifs géométriques** pour créer une impression de **mouvement** ou de **vibration**. Ces œuvres jouent avec la **perception visuelle** du spectateur, provoquant des **illusions d'optique dynamiques**. Les artistes de l'Op Art, comme <a href=\"https://fr.wikipedia.org/wiki/Victor_Vasarely\" target=\"_blank\">Victor Vasarely</a> ou <a href=\"https://fr.wikipedia.org/wiki/Bridget_Riley\" target=\"_blank\">Bridget Riley</a>, utilisent des **contrastes de couleurs** et des **formes répétitives** pour créer des images qui semblent bouger ou scintiller, défiant ainsi la perception traditionnelle et stimulant une expérience visuelle unique. L'Op Art explore la **frontière entre l'illusion et la réalité**, engageant le spectateur dans une interaction visuelle active.\n",
    "\n",
    "*📚 Ressources complémentaires :*\n",
    "\n",
    "- <a href=\"https://theses.hal.science/tel-01633515\" target=\"_blank\">Cortical based mathematical models of geometric optical illusions</a>\n",
    "- <a href=\"https://www.sciencedirect.com/science/article/pii/S0042698908002800\" target=\"_blank\">Illusions in the spatial sense of the eye: Geometrical–optical illusions and the neural representation of space</a>"
   ]
  }
 ],
 "metadata": {
  "kernelspec": {
   "display_name": "Python 3 (ipykernel)",
   "language": "python",
   "name": "python3"
  },
  "language_info": {
   "codemirror_mode": {
    "name": "ipython",
    "version": 3
   },
   "file_extension": ".py",
   "mimetype": "text/x-python",
   "name": "python",
   "nbconvert_exporter": "python",
   "pygments_lexer": "ipython3",
   "version": "3.11.7"
  }
 },
 "nbformat": 4,
 "nbformat_minor": 5
}
